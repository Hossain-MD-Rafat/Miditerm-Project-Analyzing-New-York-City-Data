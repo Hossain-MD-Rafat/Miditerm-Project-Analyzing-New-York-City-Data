{
 "cells": [
  {
   "cell_type": "markdown",
   "id": "a4a9c8ba",
   "metadata": {},
   "source": [
    "# This is project_objectives.ipynb"
   ]
  },
  {
   "cell_type": "code",
   "execution_count": null,
   "id": "f96026b5",
   "metadata": {},
   "outputs": [],
   "source": [
    "print('Hello, this is my Jupyter notebook!')"
   ]
  }
 ],
 "metadata": {},
 "nbformat": 4,
 "nbformat_minor": 5
}
