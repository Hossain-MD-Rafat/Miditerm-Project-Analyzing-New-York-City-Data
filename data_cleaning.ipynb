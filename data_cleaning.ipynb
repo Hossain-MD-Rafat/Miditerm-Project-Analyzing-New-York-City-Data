{
  "cells": [
    {
      "cell_type": "markdown",
      "id": "0d597275",
      "metadata": {
        "id": "0d597275"
      },
      "source": [
        "# This is data_cleaning.ipynb"
      ]
    },
    {
      "cell_type": "code",
      "execution_count": 1,
      "id": "7da6cbe7",
      "metadata": {
        "id": "7da6cbe7",
        "outputId": "cbed0e44-ff9b-4de8-c0f5-69c8749c8432",
        "colab": {
          "base_uri": "https://localhost:8080/"
        }
      },
      "outputs": [
        {
          "output_type": "stream",
          "name": "stdout",
          "text": [
            "Hello, this is my Jupyter notebook!\n"
          ]
        }
      ],
      "source": [
        "print('Hello, this is my Jupyter notebook!')"
      ]
    },
    {
      "cell_type": "code",
      "source": [
        "print('Hello again!')"
      ],
      "metadata": {
        "id": "GPDnpF5W6Rbh",
        "outputId": "4a443829-cdd8-42a9-aa2d-41ddda114e91",
        "colab": {
          "base_uri": "https://localhost:8080/"
        }
      },
      "id": "GPDnpF5W6Rbh",
      "execution_count": 2,
      "outputs": [
        {
          "output_type": "stream",
          "name": "stdout",
          "text": [
            "Hello again!\n"
          ]
        }
      ]
    }
  ],
  "metadata": {
    "colab": {
      "provenance": []
    },
    "language_info": {
      "name": "python"
    },
    "kernelspec": {
      "name": "python3",
      "display_name": "Python 3"
    }
  },
  "nbformat": 4,
  "nbformat_minor": 5
}