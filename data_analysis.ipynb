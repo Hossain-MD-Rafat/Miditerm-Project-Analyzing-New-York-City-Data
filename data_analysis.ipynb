{
 "cells": [
  {
   "cell_type": "markdown",
   "id": "e70e9894",
   "metadata": {},
   "source": [
    "# This is data_analysis.ipynb"
   ]
  },
  {
   "cell_type": "code",
   "execution_count": null,
   "id": "27291fd7",
   "metadata": {},
   "outputs": [],
   "source": [
    "print('Hello, this is my Jupyter notebook!')"
   ]
  }
 ],
 "metadata": {},
 "nbformat": 4,
 "nbformat_minor": 5
}
