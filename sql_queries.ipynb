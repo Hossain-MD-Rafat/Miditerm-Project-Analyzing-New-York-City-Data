{
 "cells": [
  {
   "cell_type": "markdown",
   "id": "b52cb316",
   "metadata": {},
   "source": [
    "# This is sql_queries.ipynb"
   ]
  },
  {
   "cell_type": "code",
   "execution_count": null,
   "id": "0ae7b4e1",
   "metadata": {},
   "outputs": [],
   "source": [
    "print('Hello, this is my Jupyter notebook!')"
   ]
  }
 ],
 "metadata": {},
 "nbformat": 4,
 "nbformat_minor": 5
}
